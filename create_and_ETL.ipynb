{
 "cells": [
  {
   "cell_type": "code",
   "execution_count": 2,
   "metadata": {},
   "outputs": [
    {
     "name": "stdout",
     "output_type": "stream",
     "text": [
      "success\n"
     ]
    }
   ],
   "source": [
    "#run this to create tables \n",
    "\n",
    "!python create_tables.py"
   ]
  },
  {
   "cell_type": "code",
   "execution_count": 3,
   "metadata": {},
   "outputs": [
    {
     "name": "stdout",
     "output_type": "stream",
     "text": [
      "80 files found in data/song_data\n",
      "1/80 files processed.\n",
      "2/80 files processed.\n",
      "3/80 files processed.\n",
      "4/80 files processed.\n",
      "5/80 files processed.\n",
      "6/80 files processed.\n",
      "7/80 files processed.\n",
      "8/80 files processed.\n",
      "9/80 files processed.\n",
      "10/80 files processed.\n",
      "11/80 files processed.\n",
      "12/80 files processed.\n",
      "13/80 files processed.\n",
      "14/80 files processed.\n",
      "15/80 files processed.\n",
      "16/80 files processed.\n",
      "17/80 files processed.\n",
      "18/80 files processed.\n",
      "19/80 files processed.\n",
      "20/80 files processed.\n",
      "21/80 files processed.\n",
      "22/80 files processed.\n",
      "23/80 files processed.\n",
      "24/80 files processed.\n",
      "25/80 files processed.\n",
      "26/80 files processed.\n",
      "27/80 files processed.\n",
      "28/80 files processed.\n",
      "29/80 files processed.\n",
      "30/80 files processed.\n",
      "31/80 files processed.\n",
      "32/80 files processed.\n",
      "33/80 files processed.\n",
      "34/80 files processed.\n",
      "35/80 files processed.\n",
      "36/80 files processed.\n",
      "37/80 files processed.\n",
      "38/80 files processed.\n",
      "39/80 files processed.\n",
      "40/80 files processed.\n",
      "41/80 files processed.\n",
      "42/80 files processed.\n",
      "43/80 files processed.\n",
      "44/80 files processed.\n",
      "45/80 files processed.\n",
      "46/80 files processed.\n",
      "47/80 files processed.\n",
      "48/80 files processed.\n",
      "49/80 files processed.\n",
      "50/80 files processed.\n",
      "51/80 files processed.\n",
      "52/80 files processed.\n",
      "53/80 files processed.\n",
      "54/80 files processed.\n",
      "55/80 files processed.\n",
      "56/80 files processed.\n",
      "57/80 files processed.\n",
      "58/80 files processed.\n",
      "59/80 files processed.\n",
      "60/80 files processed.\n",
      "61/80 files processed.\n",
      "62/80 files processed.\n",
      "63/80 files processed.\n",
      "64/80 files processed.\n",
      "65/80 files processed.\n",
      "66/80 files processed.\n",
      "67/80 files processed.\n",
      "68/80 files processed.\n",
      "69/80 files processed.\n",
      "70/80 files processed.\n",
      "71/80 files processed.\n",
      "72/80 files processed.\n",
      "73/80 files processed.\n",
      "74/80 files processed.\n",
      "75/80 files processed.\n",
      "76/80 files processed.\n",
      "77/80 files processed.\n",
      "78/80 files processed.\n",
      "79/80 files processed.\n",
      "80/80 files processed.\n",
      "30 files found in data/log_data\n",
      "1/30 files processed.\n",
      "2/30 files processed.\n",
      "3/30 files processed.\n",
      "4/30 files processed.\n",
      "5/30 files processed.\n",
      "6/30 files processed.\n",
      "7/30 files processed.\n",
      "8/30 files processed.\n",
      "9/30 files processed.\n",
      "10/30 files processed.\n",
      "11/30 files processed.\n",
      "12/30 files processed.\n",
      "13/30 files processed.\n",
      "14/30 files processed.\n",
      "15/30 files processed.\n",
      "16/30 files processed.\n",
      "17/30 files processed.\n",
      "18/30 files processed.\n",
      "19/30 files processed.\n",
      "20/30 files processed.\n",
      "21/30 files processed.\n",
      "22/30 files processed.\n",
      "23/30 files processed.\n",
      "24/30 files processed.\n",
      "25/30 files processed.\n",
      "26/30 files processed.\n",
      "27/30 files processed.\n",
      "28/30 files processed.\n",
      "29/30 files processed.\n",
      "30/30 files processed.\n"
     ]
    }
   ],
   "source": [
    "!python etl.py"
   ]
  },
  {
   "cell_type": "code",
   "execution_count": 1,
   "metadata": {},
   "outputs": [
    {
     "ename": "SyntaxError",
     "evalue": "invalid syntax (<ipython-input-1-33fe771b3787>, line 1)",
     "output_type": "error",
     "traceback": [
      "\u001b[0;36m  File \u001b[0;32m\"<ipython-input-1-33fe771b3787>\"\u001b[0;36m, line \u001b[0;32m1\u001b[0m\n\u001b[0;31m    zip -r data.zip data/\u001b[0m\n\u001b[0m              ^\u001b[0m\n\u001b[0;31mSyntaxError\u001b[0m\u001b[0;31m:\u001b[0m invalid syntax\n"
     ]
    }
   ],
   "source": [
    "zip -r data.zip data/"
   ]
  },
  {
   "cell_type": "code",
   "execution_count": null,
   "metadata": {},
   "outputs": [],
   "source": []
  }
 ],
 "metadata": {
  "kernelspec": {
   "display_name": "Python 3",
   "language": "python",
   "name": "python3"
  },
  "language_info": {
   "codemirror_mode": {
    "name": "ipython",
    "version": 3
   },
   "file_extension": ".py",
   "mimetype": "text/x-python",
   "name": "python",
   "nbconvert_exporter": "python",
   "pygments_lexer": "ipython3",
   "version": "3.6.3"
  }
 },
 "nbformat": 4,
 "nbformat_minor": 2
}
